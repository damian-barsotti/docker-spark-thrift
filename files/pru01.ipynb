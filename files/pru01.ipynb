{
 "cells": [
  {
   "cell_type": "code",
   "execution_count": 4,
   "id": "aac6fb60-65a3-4e56-b859-e8a09122c04e",
   "metadata": {
    "tags": []
   },
   "outputs": [],
   "source": [
    "from pyspark.sql import SparkSession\n",
    "\n",
    "warehouse_location = \"/files/spark-warehouse\"\n",
    "url = \"jdbc:mysql://metastore-db/metastore\"\n",
    "driver = \"com.mysql.cj.jdbc.Driver\"\n",
    "username = \"root\"\n",
    "password = \"my-secret-pw\"\n",
    "\n",
    "spark = SparkSession.builder \\\n",
    "    .master(\"spark://spark-master:7077\") \\\n",
    "    .config(\"spark.sql.warehouse.dir\", warehouse_location) \\\n",
    "    .config(\"javax.jdo.option.ConnectionURL\", url) \\\n",
    "    .config(\"javax.jdo.option.ConnectionDriverName\", driver) \\\n",
    "    .config(\"javax.jdo.option.ConnectionUserName\", username) \\\n",
    "    .config(\"javax.jdo.option.ConnectionPassword\", password) \\\n",
    "    .appName(\"API Spark\") \\\n",
    "    .enableHiveSupport() \\\n",
    "    .getOrCreate()\n",
    "\n",
    "sc = spark.sparkContext"
   ]
  },
  {
   "cell_type": "code",
   "execution_count": 5,
   "id": "d37390c4-c879-422d-bdf0-cb083699ed40",
   "metadata": {
    "tags": []
   },
   "outputs": [
    {
     "name": "stdout",
     "output_type": "stream",
     "text": [
      "+----+--------------------+------------------+-----+-------+-----------+------------+\n",
      "|iata|             airport|              city|state|country|        lat|        long|\n",
      "+----+--------------------+------------------+-----+-------+-----------+------------+\n",
      "| 00M|            Thigpen |       Bay Springs|   MS|    USA|31.95376472|-89.23450472|\n",
      "| 00R|Livingston Municipal|        Livingston|   TX|    USA|30.68586111|-95.01792778|\n",
      "| 00V|         Meadow Lake|  Colorado Springs|   CO|    USA|38.94574889|-104.5698933|\n",
      "| 01G|        Perry-Warsaw|             Perry|   NY|    USA|42.74134667|-78.05208056|\n",
      "| 01J|    Hilliard Airpark|          Hilliard|   FL|    USA| 30.6880125|-81.90594389|\n",
      "| 01M|   Tishomingo County|           Belmont|   MS|    USA|34.49166667|-88.20111111|\n",
      "| 02A|         Gragg-Wade |           Clanton|   AL|    USA|32.85048667|-86.61145333|\n",
      "| 02C|             Capitol|        Brookfield|   WI|    USA|   43.08751|-88.17786917|\n",
      "| 02G|   Columbiana County|    East Liverpool|   OH|    USA|40.67331278|-80.64140639|\n",
      "| 03D|    Memphis Memorial|           Memphis|   MO|    USA|40.44725889|-92.22696056|\n",
      "| 04M|      Calhoun County|         Pittsboro|   MS|    USA|33.93011222|-89.34285194|\n",
      "| 04Y|    Hawley Municipal|            Hawley|   MN|    USA|46.88384889|-96.35089861|\n",
      "| 05C|Griffith-Merrillv...|          Griffith|   IN|    USA|41.51961917|-87.40109333|\n",
      "| 05F|Gatesville - City...|        Gatesville|   TX|    USA|31.42127556|-97.79696778|\n",
      "| 05U|              Eureka|            Eureka|   NV|    USA|39.60416667|-116.0050597|\n",
      "| 06A|    Moton  Municipal|          Tuskegee|   AL|    USA|32.46047167|-85.68003611|\n",
      "| 06C|          Schaumburg|Chicago/Schaumburg|   IL|    USA|41.98934083|-88.10124278|\n",
      "| 06D|     Rolla Municipal|             Rolla|   ND|    USA|48.88434111|-99.62087694|\n",
      "| 06M|    Eupora Municipal|            Eupora|   MS|    USA|33.53456583|-89.31256917|\n",
      "| 06N|            Randall |        Middletown|   NY|    USA|41.43156583|-74.39191722|\n",
      "+----+--------------------+------------------+-----+-------+-----------+------------+\n",
      "only showing top 20 rows\n",
      "\n"
     ]
    }
   ],
   "source": [
    "spark.sql(\"select * from airports\").show()"
   ]
  },
  {
   "cell_type": "code",
   "execution_count": 6,
   "id": "17a33b38-2f00-4aea-b8d2-0267ad6c7926",
   "metadata": {
    "tags": []
   },
   "outputs": [],
   "source": [
    "spark.stop()"
   ]
  },
  {
   "cell_type": "code",
   "execution_count": null,
   "id": "3b294167-3488-40b7-b9e2-11a1426bd873",
   "metadata": {},
   "outputs": [],
   "source": []
  }
 ],
 "metadata": {
  "kernelspec": {
   "display_name": "Python 3 (ipykernel)",
   "language": "python",
   "name": "python3"
  },
  "language_info": {
   "codemirror_mode": {
    "name": "ipython",
    "version": 3
   },
   "file_extension": ".py",
   "mimetype": "text/x-python",
   "name": "python",
   "nbconvert_exporter": "python",
   "pygments_lexer": "ipython3",
   "version": "3.9.16"
  }
 },
 "nbformat": 4,
 "nbformat_minor": 5
}
